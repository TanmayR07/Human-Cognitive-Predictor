{
 "cells": [
  {
   "cell_type": "markdown",
   "metadata": {},
   "source": [
    "# Importing Libraries"
   ]
  },
  {
   "cell_type": "code",
   "execution_count": 1,
   "metadata": {},
   "outputs": [],
   "source": [
    "import numpy as np # Fundamental package for linear algebra and multidimensional arrays\n",
    "import pandas as pd # Data analysis and manipultion tool\n",
    "import matplotlib.pyplot as plt\n",
    "import seaborn as sns\n",
    "# to ignore warnings\n",
    "import warnings\n",
    "warnings.filterwarnings(\"ignore\")"
   ]
  },
  {
   "cell_type": "markdown",
   "metadata": {},
   "source": [
    "# Loading Data"
   ]
  },
  {
   "cell_type": "code",
   "execution_count": 2,
   "metadata": {},
   "outputs": [],
   "source": [
    "# In read_csv() function, we have passed the location to where the files are located in the dphi official github page.\n",
    "train_data = pd.read_csv(\"https://raw.githubusercontent.com/dphi-official/Datasets/master/hippocorpus/train_set_label.csv\" )"
   ]
  },
  {
   "cell_type": "markdown",
   "metadata": {},
   "source": [
    "# EDA"
   ]
  },
  {
   "cell_type": "code",
   "execution_count": 3,
   "metadata": {},
   "outputs": [
    {
     "data": {
      "text/html": [
       "<div>\n",
       "<style scoped>\n",
       "    .dataframe tbody tr th:only-of-type {\n",
       "        vertical-align: middle;\n",
       "    }\n",
       "\n",
       "    .dataframe tbody tr th {\n",
       "        vertical-align: top;\n",
       "    }\n",
       "\n",
       "    .dataframe thead th {\n",
       "        text-align: right;\n",
       "    }\n",
       "</style>\n",
       "<table border=\"1\" class=\"dataframe\">\n",
       "  <thead>\n",
       "    <tr style=\"text-align: right;\">\n",
       "      <th></th>\n",
       "      <th>AssignmentId</th>\n",
       "      <th>WorkTimeInSeconds</th>\n",
       "      <th>WorkerId</th>\n",
       "      <th>annotatorAge</th>\n",
       "      <th>annotatorGender</th>\n",
       "      <th>annotatorRace</th>\n",
       "      <th>distracted</th>\n",
       "      <th>draining</th>\n",
       "      <th>frequency</th>\n",
       "      <th>importance</th>\n",
       "      <th>...</th>\n",
       "      <th>openness</th>\n",
       "      <th>recAgnPairId</th>\n",
       "      <th>recImgPairId</th>\n",
       "      <th>similarity</th>\n",
       "      <th>similarityReason</th>\n",
       "      <th>story</th>\n",
       "      <th>stressful</th>\n",
       "      <th>summary</th>\n",
       "      <th>timeSinceEvent</th>\n",
       "      <th>memType</th>\n",
       "    </tr>\n",
       "  </thead>\n",
       "  <tbody>\n",
       "    <tr>\n",
       "      <th>0</th>\n",
       "      <td>39DD6S19JQXBBJGPFEBWSF4G1TQEZJ</td>\n",
       "      <td>1025</td>\n",
       "      <td>YGROBIBW</td>\n",
       "      <td>35.0</td>\n",
       "      <td>Man</td>\n",
       "      <td>white</td>\n",
       "      <td>one</td>\n",
       "      <td>3.0</td>\n",
       "      <td>2.0</td>\n",
       "      <td>3.0</td>\n",
       "      <td>...</td>\n",
       "      <td>0.375</td>\n",
       "      <td>3RKNTXVS3NKSI9BOEGJK201G4H2A46</td>\n",
       "      <td>NaN</td>\n",
       "      <td>NaN</td>\n",
       "      <td>NaN</td>\n",
       "      <td>We were friends from high school. I got a call...</td>\n",
       "      <td>3.0</td>\n",
       "      <td>my friend's death. Old friends reunited to sha...</td>\n",
       "      <td>60.0</td>\n",
       "      <td>retold</td>\n",
       "    </tr>\n",
       "    <tr>\n",
       "      <th>1</th>\n",
       "      <td>3WQQ9FUS6BGYKK3IWX9TEN1R8RLB87</td>\n",
       "      <td>1987</td>\n",
       "      <td>KK89LEHY</td>\n",
       "      <td>35.0</td>\n",
       "      <td>woman</td>\n",
       "      <td>indian</td>\n",
       "      <td>one</td>\n",
       "      <td>5.0</td>\n",
       "      <td>3.0</td>\n",
       "      <td>5.0</td>\n",
       "      <td>...</td>\n",
       "      <td>0.625</td>\n",
       "      <td>NaN</td>\n",
       "      <td>3WQQ9FUS6BGYKK3IWX9TEN1R8RLB87</td>\n",
       "      <td>NaN</td>\n",
       "      <td>NaN</td>\n",
       "      <td>Five months ago, my father passed away from a ...</td>\n",
       "      <td>2.0</td>\n",
       "      <td>My dad, who was a significant person in my lif...</td>\n",
       "      <td>150.0</td>\n",
       "      <td>recalled</td>\n",
       "    </tr>\n",
       "    <tr>\n",
       "      <th>2</th>\n",
       "      <td>3YDTZAI2WY2WOLYOIXQRRZ8DKXB14S</td>\n",
       "      <td>1604</td>\n",
       "      <td>JIWFAU5T</td>\n",
       "      <td>35.0</td>\n",
       "      <td>man</td>\n",
       "      <td>White</td>\n",
       "      <td>one</td>\n",
       "      <td>one</td>\n",
       "      <td>5.0</td>\n",
       "      <td>5.0</td>\n",
       "      <td>...</td>\n",
       "      <td>1.000</td>\n",
       "      <td>NaN</td>\n",
       "      <td>3YDTZAI2WY2WOLYOIXQRRZ8DKXB14S</td>\n",
       "      <td>NaN</td>\n",
       "      <td>NaN</td>\n",
       "      <td>My Most Memorable Day of My Life! I found my o...</td>\n",
       "      <td>1.0</td>\n",
       "      <td>The best thing may be difficult to find. I was...</td>\n",
       "      <td>120.0</td>\n",
       "      <td>recalled</td>\n",
       "    </tr>\n",
       "    <tr>\n",
       "      <th>3</th>\n",
       "      <td>3Q8GYXHFEQOY77CMCZYLDNXJ2YBC58</td>\n",
       "      <td>6369</td>\n",
       "      <td>1NHCDDOJ</td>\n",
       "      <td>40.0</td>\n",
       "      <td>woman</td>\n",
       "      <td>white</td>\n",
       "      <td>one</td>\n",
       "      <td>one</td>\n",
       "      <td>NaN</td>\n",
       "      <td>4.0</td>\n",
       "      <td>...</td>\n",
       "      <td>0.875</td>\n",
       "      <td>NaN</td>\n",
       "      <td>3WLEIWSYHP3XPI4FG8AOQ7RM04VH26</td>\n",
       "      <td>1.0</td>\n",
       "      <td>This was not at all how I got engaged, but a w...</td>\n",
       "      <td>It has been such a whirlwind these past 8 mont...</td>\n",
       "      <td>1.0</td>\n",
       "      <td>The event described details my wedding which o...</td>\n",
       "      <td>240.0</td>\n",
       "      <td>imagined</td>\n",
       "    </tr>\n",
       "    <tr>\n",
       "      <th>4</th>\n",
       "      <td>32AT8R96GMVVZ3RXAMWT04TG9CISU0</td>\n",
       "      <td>1083</td>\n",
       "      <td>A5SWJWSQ</td>\n",
       "      <td>30.0</td>\n",
       "      <td>MAN</td>\n",
       "      <td>white</td>\n",
       "      <td>one</td>\n",
       "      <td>5.0</td>\n",
       "      <td>3.0</td>\n",
       "      <td>5.0</td>\n",
       "      <td>...</td>\n",
       "      <td>1.000</td>\n",
       "      <td>NaN</td>\n",
       "      <td>32AT8R96GMVVZ3RXAMWT04TG9CISU0</td>\n",
       "      <td>NaN</td>\n",
       "      <td>NaN</td>\n",
       "      <td>Today was one of the saddest days of my life. ...</td>\n",
       "      <td>4.0</td>\n",
       "      <td>My cousin recently passed away due to brain ca...</td>\n",
       "      <td>60.0</td>\n",
       "      <td>recalled</td>\n",
       "    </tr>\n",
       "  </tbody>\n",
       "</table>\n",
       "<p>5 rows × 23 columns</p>\n",
       "</div>"
      ],
      "text/plain": [
       "                     AssignmentId  WorkTimeInSeconds  WorkerId  annotatorAge  \\\n",
       "0  39DD6S19JQXBBJGPFEBWSF4G1TQEZJ               1025  YGROBIBW          35.0   \n",
       "1  3WQQ9FUS6BGYKK3IWX9TEN1R8RLB87               1987  KK89LEHY          35.0   \n",
       "2  3YDTZAI2WY2WOLYOIXQRRZ8DKXB14S               1604  JIWFAU5T          35.0   \n",
       "3  3Q8GYXHFEQOY77CMCZYLDNXJ2YBC58               6369  1NHCDDOJ          40.0   \n",
       "4  32AT8R96GMVVZ3RXAMWT04TG9CISU0               1083  A5SWJWSQ          30.0   \n",
       "\n",
       "  annotatorGender annotatorRace distracted draining  frequency  importance  \\\n",
       "0             Man         white        one      3.0        2.0         3.0   \n",
       "1           woman        indian        one      5.0        3.0         5.0   \n",
       "2             man         White        one      one        5.0         5.0   \n",
       "3           woman         white        one      one        NaN         4.0   \n",
       "4             MAN         white        one      5.0        3.0         5.0   \n",
       "\n",
       "   ...  openness                    recAgnPairId  \\\n",
       "0  ...     0.375  3RKNTXVS3NKSI9BOEGJK201G4H2A46   \n",
       "1  ...     0.625                             NaN   \n",
       "2  ...     1.000                             NaN   \n",
       "3  ...     0.875                             NaN   \n",
       "4  ...     1.000                             NaN   \n",
       "\n",
       "                     recImgPairId  similarity  \\\n",
       "0                             NaN         NaN   \n",
       "1  3WQQ9FUS6BGYKK3IWX9TEN1R8RLB87         NaN   \n",
       "2  3YDTZAI2WY2WOLYOIXQRRZ8DKXB14S         NaN   \n",
       "3  3WLEIWSYHP3XPI4FG8AOQ7RM04VH26         1.0   \n",
       "4  32AT8R96GMVVZ3RXAMWT04TG9CISU0         NaN   \n",
       "\n",
       "                                    similarityReason  \\\n",
       "0                                                NaN   \n",
       "1                                                NaN   \n",
       "2                                                NaN   \n",
       "3  This was not at all how I got engaged, but a w...   \n",
       "4                                                NaN   \n",
       "\n",
       "                                               story  stressful  \\\n",
       "0  We were friends from high school. I got a call...        3.0   \n",
       "1  Five months ago, my father passed away from a ...        2.0   \n",
       "2  My Most Memorable Day of My Life! I found my o...        1.0   \n",
       "3  It has been such a whirlwind these past 8 mont...        1.0   \n",
       "4  Today was one of the saddest days of my life. ...        4.0   \n",
       "\n",
       "                                             summary timeSinceEvent   memType  \n",
       "0  my friend's death. Old friends reunited to sha...           60.0    retold  \n",
       "1  My dad, who was a significant person in my lif...          150.0  recalled  \n",
       "2  The best thing may be difficult to find. I was...          120.0  recalled  \n",
       "3  The event described details my wedding which o...          240.0  imagined  \n",
       "4  My cousin recently passed away due to brain ca...           60.0  recalled  \n",
       "\n",
       "[5 rows x 23 columns]"
      ]
     },
     "execution_count": 3,
     "metadata": {},
     "output_type": "execute_result"
    }
   ],
   "source": [
    "train_data.head()"
   ]
  },
  {
   "cell_type": "code",
   "execution_count": 4,
   "metadata": {},
   "outputs": [
    {
     "name": "stdout",
     "output_type": "stream",
     "text": [
      "<class 'pandas.core.frame.DataFrame'>\n",
      "RangeIndex: 6797 entries, 0 to 6796\n",
      "Data columns (total 23 columns):\n",
      " #   Column             Non-Null Count  Dtype  \n",
      "---  ------             --------------  -----  \n",
      " 0   AssignmentId       6797 non-null   object \n",
      " 1   WorkTimeInSeconds  6797 non-null   int64  \n",
      " 2   WorkerId           6797 non-null   object \n",
      " 3   annotatorAge       6771 non-null   float64\n",
      " 4   annotatorGender    6793 non-null   object \n",
      " 5   annotatorRace      6797 non-null   object \n",
      " 6   distracted         6797 non-null   object \n",
      " 7   draining           6797 non-null   object \n",
      " 8   frequency          4052 non-null   float64\n",
      " 9   importance         6649 non-null   float64\n",
      " 10  logTimeSinceEvent  6797 non-null   float64\n",
      " 11  mainEvent          6797 non-null   object \n",
      " 12  mostSurprising     6797 non-null   object \n",
      " 13  openness           6797 non-null   float64\n",
      " 14  recAgnPairId       2549 non-null   object \n",
      " 15  recImgPairId       5303 non-null   object \n",
      " 16  similarity         2745 non-null   float64\n",
      " 17  similarityReason   2745 non-null   object \n",
      " 18  story              6797 non-null   object \n",
      " 19  stressful          6797 non-null   float64\n",
      " 20  summary            6797 non-null   object \n",
      " 21  timeSinceEvent     6797 non-null   float64\n",
      " 22  memType            6797 non-null   object \n",
      "dtypes: float64(8), int64(1), object(14)\n",
      "memory usage: 1.2+ MB\n"
     ]
    }
   ],
   "source": [
    "train_data.info()"
   ]
  },
  {
   "cell_type": "code",
   "execution_count": 5,
   "metadata": {},
   "outputs": [
    {
     "data": {
      "text/plain": [
       "Text(0.5, 1.0, 'Dependent Variable Counts')"
      ]
     },
     "execution_count": 5,
     "metadata": {},
     "output_type": "execute_result"
    },
    {
     "data": {
      "image/png": "[encoded data removed]",
      "text/plain": [
       "<Figure size 432x288 with 1 Axes>"
      ]
     },
     "metadata": {},
     "output_type": "display_data"
    }
   ],
   "source": [
    "sns.set_style(\"darkgrid\")\n",
    "sns.countplot(x='memType',data=train_data,palette=\"Set1\")\n",
    "plt.title(\"Dependent Variable Counts\")"
   ]
  },
  {
   "cell_type": "code",
   "execution_count": 6,
   "metadata": {},
   "outputs": [
    {
     "data": {
      "text/plain": [
       "Text(0.5, 1.0, 'Count of Gender')"
      ]
     },
     "execution_count": 6,
     "metadata": {},
     "output_type": "execute_result"
    },
    {
     "data": {
      "image/png": "[encoded data removed]",
      "text/plain": [
       "<Figure size 1152x720 with 1 Axes>"
      ]
     },
     "metadata": {},
     "output_type": "display_data"
    }
   ],
   "source": [
    "plt.figure(figsize=(16,10))\n",
    "sns.set_style(\"darkgrid\")\n",
    "sns.countplot(x='annotatorGender',data=train_data,palette=\"Set1\")\n",
    "plt.title(\"Count of Gender\")"
   ]
  },
  {
   "cell_type": "code",
   "execution_count": 7,
   "metadata": {},
   "outputs": [
    {
     "data": {
      "text/plain": [
       "Text(0.5, 1.0, 'Count of Race')"
      ]
     },
     "execution_count": 7,
     "metadata": {},
     "output_type": "execute_result"
    },
    {
     "data": {
      "image/png": "[encoded data removed]",
      "text/plain": [
       "<Figure size 1152x720 with 1 Axes>"
      ]
     },
     "metadata": {},
     "output_type": "display_data"
    }
   ],
   "source": [
    "plt.figure(figsize=(16,10))\n",
    "sns.set_style(\"darkgrid\")\n",
    "sns.countplot(x='annotatorRace',data=train_data,palette=\"Set1\")\n",
    "plt.title(\"Count of Race\")"
   ]
  },
  {
   "cell_type": "markdown",
   "metadata": {},
   "source": [
    "# Separating Input Features and Output Features"
   ]
  },
  {
   "cell_type": "code",
   "execution_count": 8,
   "metadata": {},
   "outputs": [],
   "source": [
    "# Input/independent variables\n",
    "X = train_data.drop('memType', axis = 1) # her we are droping the memType feature as this is the target and 'X' is input features, the changes are not\n",
    "# made inplace as we have not used 'inplace = True'\n",
    "\n",
    "y = train_data['memType'] # Output/Dependent variable"
   ]
  },
  {
   "cell_type": "markdown",
   "metadata": {},
   "source": [
    "### Dropping Unnccessary Columns"
   ]
  },
  {
   "cell_type": "code",
   "execution_count": null,
   "metadata": {},
   "outputs": [],
   "source": [
    "X = X.drop(['recAgnPairId','recImgPairId','similarityReason','story','WorkerId','AssignmentId','summary',\n",
    "            'annotatorRace','mainEvent','mostSurprising'],axis = 1)"
   ]
  },
  {
   "cell_type": "markdown",
   "metadata": {},
   "source": [
    "## Encoding Gender"
   ]
  },
  {
   "cell_type": "code",
   "execution_count": null,
   "metadata": {},
   "outputs": [],
   "source": [
    "X.annotatorGender.unique()"
   ]
  },
  {
   "cell_type": "code",
   "execution_count": null,
   "metadata": {},
   "outputs": [],
   "source": [
    "Gender = X.annotatorGender"
   ]
  },
  {
   "cell_type": "code",
   "execution_count": null,
   "metadata": {},
   "outputs": [],
   "source": [
    "Gender_final = []\n",
    "def encode_gen():\n",
    "    for item in Gender:\n",
    "        if item == 'Man' or item == 'man' or item == 'MAN':\n",
    "            Gender_final.append(0)\n",
    "        elif item == 'woman' or item == 'WOMAN' or item == 'Woman':\n",
    "            Gender_final.append(1)\n",
    "        else:\n",
    "            Gender_final.append(2)\n",
    "    "
   ]
  },
  {
   "cell_type": "code",
   "execution_count": null,
   "metadata": {},
   "outputs": [],
   "source": [
    "X.drop('annotatorGender',axis = 1, inplace = True)"
   ]
  },
  {
   "cell_type": "code",
   "execution_count": null,
   "metadata": {},
   "outputs": [],
   "source": [
    "X['Gender'] = Gender_final"
   ]
  },
  {
   "cell_type": "markdown",
   "metadata": {},
   "source": [
    "## Encoding Distracted"
   ]
  },
  {
   "cell_type": "code",
   "execution_count": null,
   "metadata": {
    "scrolled": true
   },
   "outputs": [],
   "source": [
    "X.distracted.unique()"
   ]
  },
  {
   "cell_type": "code",
   "execution_count": null,
   "metadata": {},
   "outputs": [],
   "source": [
    "distracted_text = X.distracted"
   ]
  },
  {
   "cell_type": "code",
   "execution_count": null,
   "metadata": {},
   "outputs": [],
   "source": [
    "distarcted_final = []\n",
    "for item in distracted_text:\n",
    "    if item == 'one':\n",
    "        distarcted_final.append(1)\n",
    "    elif item == '2.0':\n",
    "        distarcted_final.append(2)\n",
    "    elif item == '3.0':\n",
    "        distarcted_final.append(3)\n",
    "    elif item == '4.0':\n",
    "        distarcted_final.append(4)        \n",
    "    else:\n",
    "        distarcted_final.append(5)"
   ]
  },
  {
   "cell_type": "code",
   "execution_count": null,
   "metadata": {},
   "outputs": [],
   "source": [
    "X.drop('distracted',axis = 1, inplace = True)"
   ]
  },
  {
   "cell_type": "code",
   "execution_count": null,
   "metadata": {},
   "outputs": [],
   "source": [
    "X['distracted_num']  = distarcted_final"
   ]
  },
  {
   "cell_type": "markdown",
   "metadata": {},
   "source": [
    "## Encoding Draining"
   ]
  },
  {
   "cell_type": "code",
   "execution_count": null,
   "metadata": {},
   "outputs": [],
   "source": [
    "X.draining.unique()"
   ]
  },
  {
   "cell_type": "code",
   "execution_count": null,
   "metadata": {},
   "outputs": [],
   "source": [
    "draining_text = X.draining"
   ]
  },
  {
   "cell_type": "code",
   "execution_count": null,
   "metadata": {},
   "outputs": [],
   "source": [
    "draining_final = []\n",
    "for item in draining_text:\n",
    "    if item == 'one':\n",
    "        draining_final.append(1)\n",
    "    elif item == '2.0':\n",
    "        draining_final.append(2)\n",
    "    elif item == '3.0':\n",
    "        draining_final.append(3)\n",
    "    elif item == '4.0':\n",
    "        draining_final.append(4)        \n",
    "    else:\n",
    "        draining_final.append(5)"
   ]
  },
  {
   "cell_type": "code",
   "execution_count": null,
   "metadata": {},
   "outputs": [],
   "source": [
    "X.drop('draining',axis = 1, inplace = True)"
   ]
  },
  {
   "cell_type": "code",
   "execution_count": null,
   "metadata": {},
   "outputs": [],
   "source": [
    "X['draining']  = draining_final"
   ]
  },
  {
   "cell_type": "markdown",
   "metadata": {},
   "source": [
    "## Encoding memType"
   ]
  },
  {
   "cell_type": "code",
   "execution_count": 11,
   "metadata": {},
   "outputs": [
    {
     "data": {
      "text/plain": [
       "array(['retold', 'recalled', 'imagined'], dtype=object)"
      ]
     },
     "execution_count": 11,
     "metadata": {},
     "output_type": "execute_result"
    }
   ],
   "source": [
    "train_data.memType.unique()"
   ]
  },
  {
   "cell_type": "code",
   "execution_count": null,
   "metadata": {},
   "outputs": [],
   "source": [
    "y"
   ]
  },
  {
   "cell_type": "code",
   "execution_count": 9,
   "metadata": {},
   "outputs": [],
   "source": [
    "y_enc = []\n",
    "for item in y:\n",
    "    if item == 'recalled':\n",
    "        y_enc.append(0)\n",
    "    elif item == 'imagined':\n",
    "        y_enc.append(1)\n",
    "    else:\n",
    "        y_enc.append(2)"
   ]
  },
  {
   "cell_type": "code",
   "execution_count": 10,
   "metadata": {},
   "outputs": [],
   "source": [
    "y = np.array(y_enc)"
   ]
  },
  {
   "cell_type": "markdown",
   "metadata": {},
   "source": [
    "# Splitting Data into Train and Validation"
   ]
  },
  {
   "cell_type": "code",
   "execution_count": null,
   "metadata": {},
   "outputs": [],
   "source": [
    "# import train_test_split\n",
    "from sklearn.model_selection import train_test_split"
   ]
  },
  {
   "cell_type": "code",
   "execution_count": null,
   "metadata": {},
   "outputs": [],
   "source": [
    "X_train, X_val, y_train, y_val = train_test_split(X,y,test_size=0.3, random_state = 42)"
   ]
  },
  {
   "cell_type": "markdown",
   "metadata": {},
   "source": [
    "## Checking Null Values"
   ]
  },
  {
   "cell_type": "code",
   "execution_count": null,
   "metadata": {},
   "outputs": [],
   "source": [
    "X_train.isnull().sum()"
   ]
  },
  {
   "cell_type": "markdown",
   "metadata": {},
   "source": [
    "### Filling Null Values"
   ]
  },
  {
   "cell_type": "code",
   "execution_count": null,
   "metadata": {},
   "outputs": [],
   "source": [
    "X_train.annotatorAge.fillna(X_train.annotatorAge.mean(), inplace=True)\n",
    "X_train.importance.fillna(X_train.importance.mean(), inplace=True)\n",
    "X_train.frequency.fillna(X_train.frequency.mean(), inplace=True)\n",
    "X_train.similarity.fillna(X_train.similarity.mean(), inplace=True)\n",
    "\n",
    "X_val.annotatorAge.fillna(X_val.annotatorAge.mean(), inplace=True)\n",
    "X_val.importance.fillna(X_val.importance.mean(), inplace=True)\n",
    "X_val.frequency.fillna(X_val.frequency.mean(), inplace=True)\n",
    "X_val.similarity.fillna(X_val.similarity.mean(), inplace=True)"
   ]
  },
  {
   "cell_type": "markdown",
   "metadata": {},
   "source": [
    "## Scaling the Data"
   ]
  },
  {
   "cell_type": "code",
   "execution_count": null,
   "metadata": {},
   "outputs": [],
   "source": [
    "from sklearn.preprocessing import StandardScaler\n",
    "ss = StandardScaler()\n",
    "X_train = ss.fit_transform(X_train)\n",
    "X_val = ss.fit_transform(X_val)"
   ]
  },
  {
   "cell_type": "markdown",
   "metadata": {},
   "source": [
    "# Building Model"
   ]
  },
  {
   "cell_type": "markdown",
   "metadata": {},
   "source": [
    "## Logistic Regression"
   ]
  },
  {
   "cell_type": "code",
   "execution_count": null,
   "metadata": {},
   "outputs": [],
   "source": [
    "from sklearn.linear_model import LogisticRegression\n",
    "lr = LogisticRegression()\n",
    "lr.fit(X_train, y_train)"
   ]
  },
  {
   "cell_type": "markdown",
   "metadata": {},
   "source": [
    "## Random Forest Classifier"
   ]
  },
  {
   "cell_type": "code",
   "execution_count": null,
   "metadata": {},
   "outputs": [],
   "source": [
    "from sklearn.ensemble import RandomForestClassifier\n",
    "rfc = RandomForestClassifier(random_state = 1)\n",
    "rfc.fit(X_train, y_train)"
   ]
  },
  {
   "cell_type": "markdown",
   "metadata": {},
   "source": [
    "## Random Forest Classifer with Grid Search CV "
   ]
  },
  {
   "cell_type": "code",
   "execution_count": null,
   "metadata": {},
   "outputs": [],
   "source": [
    "params = {\"max_depth\": [25,30,35],\n",
    "               \"min_samples_split\": [3, 4, 5],\n",
    "              \"min_samples_leaf\": [1 ,2,3],\n",
    "              \"bootstrap\": [True],\n",
    "              \"n_estimators\": [150,175,125],\n",
    "                 \"n_jobs\": [-1],\n",
    "             \"verbose\": [2],\n",
    "            \"criterion\": [\"entropy\"]\n",
    "         }"
   ]
  },
  {
   "cell_type": "code",
   "execution_count": null,
   "metadata": {},
   "outputs": [],
   "source": [
    "from sklearn.model_selection import GridSearchCV\n",
    "rfc1 = RandomForestClassifier()\n",
    "clf = GridSearchCV(rfc1, params,cv = 4)\n",
    "clf.fit(X_train,y_train)"
   ]
  },
  {
   "cell_type": "code",
   "execution_count": null,
   "metadata": {},
   "outputs": [],
   "source": [
    "print(\"The best estimator for random forest classifier is:\", clf.best_estimator_)"
   ]
  },
  {
   "cell_type": "markdown",
   "metadata": {},
   "source": [
    "## Gradient Boosting Classifier"
   ]
  },
  {
   "cell_type": "code",
   "execution_count": null,
   "metadata": {},
   "outputs": [],
   "source": [
    "from sklearn.ensemble import GradientBoostingClassifier\n",
    "gbc = GradientBoostingClassifier(n_estimators=100, learning_rate=1.0,max_depth=1, random_state=0).fit(X_train, y_train)"
   ]
  },
  {
   "cell_type": "markdown",
   "metadata": {},
   "source": [
    "# Validate the Model"
   ]
  },
  {
   "cell_type": "code",
   "execution_count": null,
   "metadata": {},
   "outputs": [],
   "source": [
    "#For Logistic Regression\n",
    "pred_lr = lr.predict(X_val)"
   ]
  },
  {
   "cell_type": "code",
   "execution_count": null,
   "metadata": {},
   "outputs": [],
   "source": [
    "#For Random Forest Classifier\n",
    "pred_rfc = rfc.predict(X_val)"
   ]
  },
  {
   "cell_type": "code",
   "execution_count": null,
   "metadata": {},
   "outputs": [],
   "source": [
    "#For Random Forest Classifer with Grid Search CV\n",
    "pred_clf = clf.predict(X_val)"
   ]
  },
  {
   "cell_type": "code",
   "execution_count": null,
   "metadata": {},
   "outputs": [],
   "source": [
    "#For Gradient Boosting Classifier\n",
    "pred_gbc = gbc.predict(X_val)"
   ]
  },
  {
   "cell_type": "markdown",
   "metadata": {},
   "source": [
    "# Model Evaluation"
   ]
  },
  {
   "cell_type": "code",
   "execution_count": null,
   "metadata": {},
   "outputs": [],
   "source": [
    "# import mean squared error from sklearn.metric\n",
    "from sklearn.metrics import f1_score"
   ]
  },
  {
   "cell_type": "code",
   "execution_count": null,
   "metadata": {},
   "outputs": [],
   "source": [
    "print('F1 Score for logistic regression is: ', f1_score(y_val, pred_lr, average = 'weighted'))\n",
    "print('F1 Score for random forest classifier is: ', f1_score(y_val, pred_rfc, average = 'weighted'))\n",
    "print('F1 Score for random forest classifier with grid search cv is: ', f1_score(y_val, pred_clf, average = 'weighted'))\n",
    "print('F1 Score for gradient boosting classifier is: ', f1_score(y_val, pred_gbc, average = 'weighted'))"
   ]
  },
  {
   "cell_type": "code",
   "execution_count": null,
   "metadata": {},
   "outputs": [],
   "source": [
    "from sklearn.ensemble import AdaBoostClassifier\n",
    "ada = AdaBoostClassifier(n_estimators=1000, random_state=0,learning_rate=0.06)\n",
    "ada.fit(X_train, y_train)"
   ]
  },
  {
   "cell_type": "code",
   "execution_count": null,
   "metadata": {},
   "outputs": [],
   "source": [
    "test_pred_ada = ada.predict(X_val)\n",
    "train_pred_ada = ada.predict(X_train)"
   ]
  },
  {
   "cell_type": "code",
   "execution_count": null,
   "metadata": {},
   "outputs": [],
   "source": [
    "#print('F1 Score for logistic regression is: ', f1_score(y_val, test_pred_ada, average = 'weighted'))\n",
    "#print('F1 Score for logistic regression is: ', f1_score(y_train, train_pred_ada, average = 'weighted'))\n",
    "#learning_rate=0.05"
   ]
  },
  {
   "cell_type": "code",
   "execution_count": null,
   "metadata": {},
   "outputs": [],
   "source": [
    "print('F1 Score for logistic regression is: ', f1_score(y_val, test_pred_ada, average = 'weighted'))\n",
    "print('F1 Score for logistic regression is: ', f1_score(y_train, train_pred_ada, average = 'weighted'))"
   ]
  },
  {
   "cell_type": "code",
   "execution_count": null,
   "metadata": {},
   "outputs": [],
   "source": [
    "from sklearn.ensemble import ExtraTreesClassifier\n",
    "ext = ExtraTreesClassifier(n_estimators=1000, max_depth=None,\n",
    "     min_samples_split=2, random_state=0)\n",
    "ext.fit(X_train,y_train)"
   ]
  },
  {
   "cell_type": "code",
   "execution_count": null,
   "metadata": {},
   "outputs": [],
   "source": [
    "test_pred_ext = ext.predict(X_val)\n",
    "train_pred_ext = ext.predict(X_train)"
   ]
  },
  {
   "cell_type": "code",
   "execution_count": null,
   "metadata": {},
   "outputs": [],
   "source": [
    "print('F1 Score for logistic regression is: ', f1_score(y_val, test_pred_ext, average = 'weighted'))\n",
    "print('F1 Score for logistic regression is: ', f1_score(y_train, train_pred_ext, average = 'weighted'))"
   ]
  },
  {
   "cell_type": "markdown",
   "metadata": {},
   "source": [
    "# Loading Test Data"
   ]
  },
  {
   "cell_type": "code",
   "execution_count": null,
   "metadata": {},
   "outputs": [],
   "source": [
    "test_data = pd.read_csv('https://raw.githubusercontent.com/dphi-official/Datasets/master/hippocorpus/test_set_label.csv')"
   ]
  },
  {
   "cell_type": "markdown",
   "metadata": {},
   "source": [
    "# Test Data EDA"
   ]
  },
  {
   "cell_type": "code",
   "execution_count": null,
   "metadata": {},
   "outputs": [],
   "source": [
    "test_data.info()"
   ]
  },
  {
   "cell_type": "markdown",
   "metadata": {},
   "source": [
    "### Dropping Unneccessary coloumns"
   ]
  },
  {
   "cell_type": "code",
   "execution_count": null,
   "metadata": {},
   "outputs": [],
   "source": [
    "test_data = test_data.drop(['recAgnPairId','recImgPairId','similarityReason','story','WorkerId','AssignmentId','summary',\n",
    "            'annotatorRace','mainEvent','mostSurprising'],axis = 1)"
   ]
  },
  {
   "cell_type": "markdown",
   "metadata": {},
   "source": [
    "### Encoding Gender"
   ]
  },
  {
   "cell_type": "code",
   "execution_count": null,
   "metadata": {},
   "outputs": [],
   "source": [
    "test_data.annotatorGender.unique()"
   ]
  },
  {
   "cell_type": "code",
   "execution_count": null,
   "metadata": {},
   "outputs": [],
   "source": [
    "test_Gender = test_data.annotatorGender"
   ]
  },
  {
   "cell_type": "code",
   "execution_count": null,
   "metadata": {},
   "outputs": [],
   "source": [
    "test_Gender_final = []\n",
    "for item in test_Gender:\n",
    "    if item == 'Man' or item == 'man' or item == 'MAN':\n",
    "        test_Gender_final.append(0)\n",
    "    elif item == 'woman' or item == 'WOMAN' or item == 'Woman':\n",
    "        test_Gender_final.append(1)\n",
    "    else:\n",
    "        test_Gender_final.append(2)"
   ]
  },
  {
   "cell_type": "code",
   "execution_count": null,
   "metadata": {},
   "outputs": [],
   "source": [
    "test_data.drop('annotatorGender',axis = 1, inplace = True)"
   ]
  },
  {
   "cell_type": "code",
   "execution_count": null,
   "metadata": {},
   "outputs": [],
   "source": [
    "test_data['Gender'] = test_Gender_final"
   ]
  },
  {
   "cell_type": "markdown",
   "metadata": {},
   "source": [
    "### Encoding Distracted"
   ]
  },
  {
   "cell_type": "code",
   "execution_count": null,
   "metadata": {},
   "outputs": [],
   "source": [
    "test_data.distracted.unique()"
   ]
  },
  {
   "cell_type": "code",
   "execution_count": null,
   "metadata": {},
   "outputs": [],
   "source": [
    "test_distracted_text = test_data.distracted"
   ]
  },
  {
   "cell_type": "code",
   "execution_count": null,
   "metadata": {},
   "outputs": [],
   "source": [
    "test_distarcted_final = []\n",
    "for item in test_distracted_text:\n",
    "    if item == 'one':\n",
    "        test_distarcted_final.append(1)\n",
    "    elif item == '2.0':\n",
    "        test_distarcted_final.append(2)\n",
    "    elif item == '3.0':\n",
    "        test_distarcted_final.append(3)\n",
    "    elif item == '4.0':\n",
    "        test_distarcted_final.append(4)        \n",
    "    else:\n",
    "        test_distarcted_final.append(5)"
   ]
  },
  {
   "cell_type": "code",
   "execution_count": null,
   "metadata": {},
   "outputs": [],
   "source": [
    "test_data.drop('distracted',axis = 1, inplace = True)"
   ]
  },
  {
   "cell_type": "code",
   "execution_count": null,
   "metadata": {},
   "outputs": [],
   "source": [
    "test_data['distracted_num']  = test_distarcted_final"
   ]
  },
  {
   "cell_type": "markdown",
   "metadata": {},
   "source": [
    "### Encoding Draining"
   ]
  },
  {
   "cell_type": "code",
   "execution_count": null,
   "metadata": {},
   "outputs": [],
   "source": [
    "test_data.draining.unique()"
   ]
  },
  {
   "cell_type": "code",
   "execution_count": null,
   "metadata": {},
   "outputs": [],
   "source": [
    "test_draining_text = test_data.draining"
   ]
  },
  {
   "cell_type": "code",
   "execution_count": null,
   "metadata": {},
   "outputs": [],
   "source": [
    "test_draining_final = []\n",
    "for item in test_draining_text:\n",
    "    if item == 'one':\n",
    "        test_draining_final.append(1)\n",
    "    elif item == '2.0':\n",
    "        test_draining_final.append(2)\n",
    "    elif item == '3.0':\n",
    "        test_draining_final.append(3)\n",
    "    elif item == '4.0':\n",
    "        test_draining_final.append(4)        \n",
    "    else:\n",
    "        test_draining_final.append(5)"
   ]
  },
  {
   "cell_type": "code",
   "execution_count": null,
   "metadata": {},
   "outputs": [],
   "source": [
    "test_data.drop('draining',axis = 1, inplace = True)"
   ]
  },
  {
   "cell_type": "code",
   "execution_count": null,
   "metadata": {},
   "outputs": [],
   "source": [
    "test_data['draining']  = test_draining_final"
   ]
  },
  {
   "cell_type": "markdown",
   "metadata": {},
   "source": [
    "### Checking Null Values"
   ]
  },
  {
   "cell_type": "code",
   "execution_count": null,
   "metadata": {},
   "outputs": [],
   "source": [
    "test_data.isnull().sum()"
   ]
  },
  {
   "cell_type": "markdown",
   "metadata": {},
   "source": [
    "### Filling Null Values"
   ]
  },
  {
   "cell_type": "code",
   "execution_count": null,
   "metadata": {},
   "outputs": [],
   "source": [
    "test_data.annotatorAge.fillna(test_data.annotatorAge.mean(), inplace=True)\n",
    "test_data.importance.fillna(test_data.importance.mean(), inplace=True)\n",
    "test_data.frequency.fillna(test_data.frequency.mean(), inplace=True)\n",
    "test_data.similarity.fillna(test_data.similarity.mean(), inplace=True)"
   ]
  },
  {
   "cell_type": "markdown",
   "metadata": {},
   "source": [
    "### Scaling Data"
   ]
  },
  {
   "cell_type": "code",
   "execution_count": null,
   "metadata": {},
   "outputs": [],
   "source": [
    "from sklearn.preprocessing import StandardScaler\n",
    "ss = StandardScaler()\n",
    "test_data = ss.fit_transform(test_data)"
   ]
  },
  {
   "cell_type": "code",
   "execution_count": null,
   "metadata": {},
   "outputs": [],
   "source": [
    "test_data = ss.fit_transform(test_data)"
   ]
  },
  {
   "cell_type": "markdown",
   "metadata": {},
   "source": [
    "# Test Data Predict"
   ]
  },
  {
   "cell_type": "code",
   "execution_count": null,
   "metadata": {},
   "outputs": [],
   "source": [
    "target = ext.predict(test_data)"
   ]
  },
  {
   "cell_type": "code",
   "execution_count": null,
   "metadata": {},
   "outputs": [],
   "source": [
    "target_obj = []\n",
    "for item in target:\n",
    "    if item == 0:\n",
    "        target_obj.append(\"recalled\")\n",
    "    elif item == 1:\n",
    "        target_obj.append(\"imagined\")\n",
    "    else:\n",
    "        target_obj.append(\"retold\")\n",
    "\n",
    "target = np.array(target_obj)"
   ]
  },
  {
   "cell_type": "markdown",
   "metadata": {},
   "source": [
    "# Saving Results in CSV"
   ]
  },
  {
   "cell_type": "code",
   "execution_count": null,
   "metadata": {},
   "outputs": [],
   "source": [
    "res = pd.DataFrame(target) #target is nothing but the final predictions of your model on input features of your new unseen test data\n",
    "res.columns = [\"prediction\"]\n",
    "res.to_csv(\"submission.csv\",index =False) # the csv file will be saved locally on the same location where this notebook is located."
   ]
  },
  {
   "cell_type": "code",
   "execution_count": null,
   "metadata": {},
   "outputs": [],
   "source": []
  }
 ],
 "metadata": {
  "kernelspec": {
   "display_name": "Python 3",
   "language": "python",
   "name": "python3"
  },
  "language_info": {
   "codemirror_mode": {
    "name": "ipython",
    "version": 3
   },
   "file_extension": ".py",
   "mimetype": "text/x-python",
   "name": "python",
   "nbconvert_exporter": "python",
   "pygments_lexer": "ipython3",
   "version": "3.8.5"
  }
 },
 "nbformat": 4,
 "nbformat_minor": 4
}
